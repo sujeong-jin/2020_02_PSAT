{
  "nbformat": 4,
  "nbformat_minor": 0,
  "metadata": {
    "colab": {
      "name": "최종 모델_lgbm.ipynb",
      "provenance": []
    },
    "kernelspec": {
      "name": "python3",
      "display_name": "Python 3"
    }
  },
  "cells": [
    {
      "cell_type": "code",
      "metadata": {
        "id": "4alGnUPdJSsx"
      },
      "source": [
        "import pandas as pd\n",
        "import numpy as np\n",
        "import os"
      ],
      "execution_count": null,
      "outputs": []
    },
    {
      "cell_type": "code",
      "metadata": {
        "id": "8pZhe5k1JUWU"
      },
      "source": [
        "from google.colab import drive\n",
        "drive.mount('/content/gdrive/')\n"
      ],
      "execution_count": null,
      "outputs": []
    },
    {
      "cell_type": "code",
      "metadata": {
        "id": "sVowaHfAJXAu"
      },
      "source": [
        "os.chdir('/content/gdrive/My Drive/주분')"
      ],
      "execution_count": null,
      "outputs": []
    },
    {
      "cell_type": "code",
      "metadata": {
        "id": "O-XoWwb3JaDM"
      },
      "source": [
        "train_nonanswer = pd.read_csv(\"train_nonanswer_jo_sum_final.csv\")\n",
        "test_nonanswer = pd.read_csv(\"test_nonanswer_jo_sum.csv\")"
      ],
      "execution_count": null,
      "outputs": []
    },
    {
      "cell_type": "code",
      "metadata": {
        "id": "AHb6v6ImJA72"
      },
      "source": [
        "##------------- 'party','user_id' drop---------------------##\n",
        "\n",
        "nonanswer_x = train_nonanswer.drop(['Party','USER_ID'],axis = 1)\n",
        "nonanswer_y = train_nonanswer['Party']"
      ],
      "execution_count": null,
      "outputs": []
    },
    {
      "cell_type": "code",
      "metadata": {
        "id": "UYbH5crHJHBA"
      },
      "source": [
        "##------------- X 변수들 dummy화 해주기---------------------##\n",
        "nonanswer_x_d = pd.get_dummies(nonanswer_x)"
      ],
      "execution_count": null,
      "outputs": []
    },
    {
      "cell_type": "code",
      "metadata": {
        "id": "-AM6jWUAJKQY"
      },
      "source": [
        "##------------- test set dummy화 & user_id drop 해주기---------------------##\n",
        "test_nonanswer_d=pd.get_dummies(test_nonanswer)\n",
        "test_nonanswer_d = test_nonanswer_d.drop(['USER_ID'],axis = 1)"
      ],
      "execution_count": null,
      "outputs": []
    },
    {
      "cell_type": "markdown",
      "metadata": {
        "id": "yXpgIrWsJuXA"
      },
      "source": [
        ""
      ]
    },
    {
      "cell_type": "code",
      "metadata": {
        "id": "OilbZIdkJdsV"
      },
      "source": [
        "from lightgbm import LGBMClassifier as lgb\n",
        "from bayes_opt import BayesianOptimization\n",
        "from sklearn.model_selection import train_test_split,GridSearchCV\n",
        "from sklearn.metrics import accuracy_score\n",
        "from sklearn.model_seleciont import KFold,StratifiedKFold\n",
        "from sklearn.model_selection import cross_val_score"
      ],
      "execution_count": null,
      "outputs": []
    },
    {
      "cell_type": "code",
      "metadata": {
        "id": "L8Y4kdqtI-1y"
      },
      "source": [
        "best_param= {'eval_metric' : 'accuracy',\n",
        "              'early_stopping_rounds' : 20, \n",
        "              'verbose' :-1,\n",
        "              'bagging_fraction':0.0002, #\n",
        "         'colsample_bytree':0, #\n",
        "         'feature_fraction':0.7, #\n",
        "         'learning_rate':0.003, #\n",
        "         'max_depth':-1, #\n",
        "         'min_child_weight':40, #\n",
        "         'n_estimators':900, #\n",
        "         'num_leaves': 30, #\n",
        "         'reg_alph':0, #\n",
        "         'reg_lambda':40, #\n",
        "         'subsample':1, #\n",
        "         'max_bin':800 #\n",
        "}\n"
      ],
      "execution_count": null,
      "outputs": []
    },
    {
      "cell_type": "code",
      "metadata": {
        "id": "lEBwIakFJir5"
      },
      "source": [
        "train_X, val_X, train_y, val_y = train_test_split(nonanswer_x_d, nonanswer_y, test_size = 0.15, train_size = 0.85, random_state = 123)\n",
        "      \n",
        "# lgb()\n",
        "model_grid =lgb(**best_param,random_seed = 123)\n",
        "\n",
        "# 모델 학습\n",
        "model_grid.fit(train_X, train_y, eval_set=(val_X, val_y))"
      ],
      "execution_count": null,
      "outputs": []
    },
    {
      "cell_type": "code",
      "metadata": {
        "id": "V6LAmRdZJ6yi"
      },
      "source": [
        "pred_y = model_grid.predict(test_nonanswer_d)"
      ],
      "execution_count": null,
      "outputs": []
    },
    {
      "cell_type": "code",
      "metadata": {
        "id": "XL_0Neg4KEr5"
      },
      "source": [
        "user_id = list(test_nonanswer['USER_ID'])\n",
        "\n",
        "submission_grid=pd.DataFrame({'USER_ID':user_id, 'Predictions':pred_y})"
      ],
      "execution_count": null,
      "outputs": []
    },
    {
      "cell_type": "code",
      "metadata": {
        "id": "EWzDqjS5KMcQ"
      },
      "source": [
        "submission_grid.to_csv('submission_grid.csv',index=False)"
      ],
      "execution_count": null,
      "outputs": []
    },
    {
      "cell_type": "code",
      "metadata": {
        "id": "TDOHLJa8KRCT"
      },
      "source": [
        "!pip install shap"
      ],
      "execution_count": null,
      "outputs": []
    },
    {
      "cell_type": "code",
      "metadata": {
        "id": "oypVtayHKUsu"
      },
      "source": [
        "# Shpley Value 패키지\n",
        "\n",
        "import shap\n",
        "\n",
        "# Shpley Value 보기\n",
        "\n",
        "explainer = shap.TreeExplainer(model_grid)\n",
        "shap_values = explainer.shap_values(test_nonanswer_d)\n",
        "\n",
        "shap.initjs()\n",
        "shap.summary_plot(shap_values[1],test_nonanswer_d,plot_type = 'bar')"
      ],
      "execution_count": null,
      "outputs": []
    }
  ]
}