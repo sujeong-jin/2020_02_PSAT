{
 "cells": [
  {
   "cell_type": "markdown",
   "metadata": {},
   "source": [
    "### 패키지 불러오기"
   ]
  },
  {
   "cell_type": "code",
   "execution_count": 1,
   "metadata": {},
   "outputs": [],
   "source": [
    "import xgboost as xgb ## XGBoost 불러오기\n",
    "from xgboost import plot_importance ## Feature Importance를 불러오기 위함\n",
    "import pandas as pd\n",
    "import numpy as np\n",
    "from xgboost import XGBClassifier \n",
    "from xgboost import plot_importance \n",
    "import matplotlib.pyplot as plt\n",
    "import matplotlib.pyplot as plt\n",
    "from sklearn.metrics import confusion_matrix, accuracy_score, precision_score, recall_score\n",
    "from sklearn.metrics import confusion_matrix, f1_score, roc_auc_score\n",
    "from sklearn.metrics import mean_squared_error\n",
    "import warnings\n",
    "warnings.filterwarnings('ignore')\n",
    "from sklearn.model_selection import train_test_split\n",
    "from sklearn.metrics import balanced_accuracy_score, roc_auc_score, make_scorer\n",
    "from sklearn.model_selection import GridSearchCV\n",
    "from sklearn.metrics import confusion_matrix\n",
    "from sklearn.metrics import plot_confusion_matrix\n",
    "from sklearn.model_selection import GridSearchCV\n",
    "from sklearn.model_selection import train_test_split\n",
    "from sklearn.metrics import balanced_accuracy_score, roc_auc_score, make_scorer\n",
    "from sklearn.model_selection import GridSearchCV\n",
    "from sklearn.metrics import confusion_matrix\n",
    "from sklearn.metrics import plot_confusion_matrix"
   ]
  },
  {
   "cell_type": "markdown",
   "metadata": {},
   "source": [
    "### train/test 데이터셋 만들기 함수"
   ]
  },
  {
   "cell_type": "code",
   "execution_count": 7,
   "metadata": {},
   "outputs": [],
   "source": [
    "#데이터셋 자동화\n",
    "test = mean_test = pd.read_csv('C:/Users/김서윤/Documents/통계 학회 P-SAT/주제 분석/주제분석 2주차 취합 모음/modeling data/test_mean_jo_sum.csv',encoding='utf-8')\n",
    "#이건 USER_ID 붙이기용 테스트셋\n",
    "mean_train = pd.read_csv('C:/Users/김서윤/Documents/통계 학회 P-SAT/주제 분석/주제분석 2주차 취합 모음/modeling data/train_mean_jo_sum_final.csv', encoding='utf-8')\n",
    "mean_test = pd.read_csv('C:/Users/김서윤/Documents/통계 학회 P-SAT/주제 분석/주제분석 2주차 취합 모음/modeling data/test_mean_jo_sum.csv',encoding='utf-8')\n",
    "non_train = pd.read_csv('C:/Users/김서윤/Documents/통계 학회 P-SAT/주제 분석/주제분석 2주차 취합 모음/modeling data/train_nonanswer_jo_sum_final.csv', encoding='utf-8')\n",
    "non_test = pd.read_csv('C:/Users/김서윤/Documents/통계 학회 P-SAT/주제 분석/주제분석 2주차 취합 모음/modeling data/test_nonanswer_jo_sum.csv',encoding='utf-8')\n",
    "mca_train = pd.read_csv('C:/Users/김서윤/Documents/통계 학회 P-SAT/주제 분석/주제분석 2주차 취합 모음/modeling data/train_mca_jo_sum_final.csv', encoding='utf-8')\n",
    "mca_test = pd.read_csv('C:/Users/김서윤/Documents/통계 학회 P-SAT/주제 분석/주제분석 2주차 취합 모음/modeling data/test_mca_jo_sum.csv',encoding='utf-8')\n",
    "rf_train = pd.read_csv('C:/Users/김서윤/Documents/통계 학회 P-SAT/주제 분석/주제분석 2주차 취합 모음/modeling data/train_rf_jo_sum_final.csv', encoding='utf-8')\n",
    "rf_test = pd.read_csv('C:/Users/김서윤/Documents/통계 학회 P-SAT/주제 분석/주제분석 2주차 취합 모음/modeling data/test_rf_jo_sum.csv',encoding='utf-8')\n",
    "#train/test 데이터셋 만들어주는 함수\n",
    "def train_test(train,test):\n",
    "    y_train = train['Party']\n",
    "    X_train = train.drop(['Party', 'USER_ID'],axis = 1)\n",
    "    #X_train = pd.get_dummies(X,columns=['Gender', 'HouseholdStatus', 'age', 'marriage', 'kids'])\n",
    "    #test = pd.get_dummies(test,columns=['Gender', 'HouseholdStatus', 'age', 'marriage', 'kids'])\n",
    "    X_test = test.drop(['USER_ID'],axis=1)\n",
    "    #트리 계열은 모든 변수 원핫인코딩 해야된대서.. 그렇게 해보자!\n",
    "    X_train = pd.get_dummies(X_train)\n",
    "    X_test = pd.get_dummies(X_test)\n",
    "    y_train = pd.get_dummies(y_train, drop_first=True)\n",
    "    return X_train, X_test, y_train\n",
    "# 제출 형식 자동 맞춤 함수\n",
    "def submission_form(y_pred,test_for_ID):\n",
    "    target_data = pd.DataFrame(y_pred)\n",
    "    target_data.columns = ['Predictions']\n",
    "    target_data.loc[target_data[\"Predictions\"] == 0,\"Predictions\"] = \"Democrat\"\n",
    "    target_data.loc[target_data[\"Predictions\"] == 1,\"Predictions\"] = \"Republican\"\n",
    "    submission = pd.concat([test['USER_ID'],target_data],axis=1)\n",
    "    return submission\n",
    "# CSV파일로 변환해주는 함수\n",
    "def to_csv(y_pred,test,name):\n",
    "    submission = submission_form(y_pred,test)\n",
    "    submission.to_csv(\"C:/Users/김서윤/Documents/통계 학회 P-SAT/주제 분석/주제분석 2주차 취합 모음/modeling data/submission/submission(%s).csv\"%(name),header=True,index=False)"
   ]
  },
  {
   "cell_type": "markdown",
   "metadata": {},
   "source": [
    "### XGBoost+Kfold+GridSearchCV\n",
    "##### https://blog.naver.com/PostView.nhn?blogId=gustn3964&logNo=221431933811&parentCategoryNo=&categoryNo=&viewDate=&isShowPopularPosts=false&from=postView"
   ]
  },
  {
   "cell_type": "code",
   "execution_count": 3,
   "metadata": {},
   "outputs": [],
   "source": [
    "#여기서 어떤 데이터셋 사용할지 선택: non-answer\n",
    "X_train, X_test, y_train = train_test(non_train,non_test)"
   ]
  },
  {
   "cell_type": "code",
   "execution_count": 4,
   "metadata": {},
   "outputs": [],
   "source": [
    "from sklearn.model_selection import KFold, GridSearchCV\n",
    "from xgboost import XGBClassifier"
   ]
  },
  {
   "cell_type": "code",
   "execution_count": 6,
   "metadata": {},
   "outputs": [],
   "source": [
    "# 모델 설정\n",
    "model= XGBClassifier()\n",
    "# K-fold\n",
    "cv=KFold(n_splits=5, random_state=1)\n",
    "# 초매개변수 튜닝(CV, Grid Search)\n",
    "param_grid={\n",
    "    'max_depth':[3,4,5],\n",
    "    'learning_rate':[1,0.5,0.1,0.01,0.05],\n",
    "    'gamma':[0,0.25,1.0],\n",
    "    'reg_lambda':[0,1.0,10.0,20,100],\n",
    "    'scale_pos_weight':[1,3,5]}"
   ]
  },
  {
   "cell_type": "code",
   "execution_count": null,
   "metadata": {},
   "outputs": [],
   "source": [
    "#돌아가는데 개오래걸리니 다시 돌릴거 아니면 건들지 말 것\n",
    "model = XGBClassifier()\n",
    "clf = GridSearchCV(model,param_grid=param_grid,cv=cv)\n",
    "grid_search = clf.fit(X_train,y_train)"
   ]
  },
  {
   "cell_type": "code",
   "execution_count": null,
   "metadata": {},
   "outputs": [],
   "source": [
    "# 최적 파라미터 구함\n",
    "print(\"final params\",clf.best_params_)"
   ]
  },
  {
   "cell_type": "code",
   "execution_count": null,
   "metadata": {},
   "outputs": [],
   "source": [
    "#### 최적 파라미터 적용한 모델 #### : best_model\n",
    "best_model = grid_search.best_estimator_\n",
    "# Y값 예측\n",
    "y_pred = best_model.predict(X_test)"
   ]
  },
  {
   "cell_type": "code",
   "execution_count": null,
   "metadata": {},
   "outputs": [],
   "source": [
    "to_csv(y_pred,test,name=\"nonanswer+XG+Kfold+Grid\")"
   ]
  },
  {
   "cell_type": "markdown",
   "metadata": {},
   "source": [
    "#### shapley value 구하기"
   ]
  },
  {
   "cell_type": "code",
   "execution_count": 10,
   "metadata": {},
   "outputs": [],
   "source": [
    "import shap"
   ]
  },
  {
   "cell_type": "code",
   "execution_count": null,
   "metadata": {},
   "outputs": [],
   "source": [
    "explainer = shap.TreeExplainer(best_model)"
   ]
  },
  {
   "cell_type": "code",
   "execution_count": null,
   "metadata": {},
   "outputs": [],
   "source": [
    "shap_values = explainer.shap_values(X_test)\n",
    "shap.initjs()"
   ]
  },
  {
   "cell_type": "code",
   "execution_count": null,
   "metadata": {},
   "outputs": [],
   "source": [
    "shap.force_plot(explainer.expected_value, shap_values[1,:], X_test.iloc[1,:])"
   ]
  },
  {
   "cell_type": "code",
   "execution_count": null,
   "metadata": {},
   "outputs": [],
   "source": [
    "shap.force_plot(explainer.expected_value, shap_values, X_test) "
   ]
  },
  {
   "cell_type": "code",
   "execution_count": null,
   "metadata": {},
   "outputs": [],
   "source": [
    "shap.summary_plot(shap_values, X_test)"
   ]
  },
  {
   "cell_type": "code",
   "execution_count": null,
   "metadata": {},
   "outputs": [],
   "source": [
    "shap.summary_plot(shap_values, X_test, plot_type = \"bar\")"
   ]
  },
  {
   "cell_type": "code",
   "execution_count": null,
   "metadata": {},
   "outputs": [],
   "source": [
    "# 변수 간의 shap value 파악\n",
    "shap.dependence_plot(\"Income\", shap_values, X_test)"
   ]
  }
 ],
 "metadata": {
  "kernelspec": {
   "display_name": "Python 3",
   "language": "python",
   "name": "python3"
  },
  "language_info": {
   "codemirror_mode": {
    "name": "ipython",
    "version": 3
   },
   "file_extension": ".py",
   "mimetype": "text/x-python",
   "name": "python",
   "nbconvert_exporter": "python",
   "pygments_lexer": "ipython3",
   "version": "3.8.3"
  }
 },
 "nbformat": 4,
 "nbformat_minor": 4
}
