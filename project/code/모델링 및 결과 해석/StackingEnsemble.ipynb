{
 "cells": [
  {
   "cell_type": "code",
   "execution_count": 1,
   "metadata": {
    "colab": {
     "base_uri": "https://localhost:8080/"
    },
    "executionInfo": {
     "elapsed": 6152,
     "status": "ok",
     "timestamp": 1605596532874,
     "user": {
      "displayName": "심읁",
      "photoUrl": "",
      "userId": "12973682426542204024"
     },
     "user_tz": -540
    },
    "id": "iYfb3vKUAlxN",
    "outputId": "ee079e26-6db1-425a-ceb0-2ed7908ae5b0"
   },
   "outputs": [
    {
     "name": "stdout",
     "output_type": "stream",
     "text": [
      "Collecting vecstack\n",
      "  Downloading vecstack-0.4.0.tar.gz (18 kB)\n",
      "Requirement already satisfied: numpy in c:\\users\\user\\anaconda3\\lib\\site-packages (from vecstack) (1.18.1)\n",
      "Requirement already satisfied: scipy in c:\\users\\user\\anaconda3\\lib\\site-packages (from vecstack) (1.4.1)\n",
      "Requirement already satisfied: scikit-learn>=0.18 in c:\\users\\user\\anaconda3\\lib\\site-packages (from vecstack) (0.23.2)\n",
      "Requirement already satisfied: joblib>=0.11 in c:\\users\\user\\anaconda3\\lib\\site-packages (from scikit-learn>=0.18->vecstack) (0.14.1)\n",
      "Requirement already satisfied: threadpoolctl>=2.0.0 in c:\\users\\user\\anaconda3\\lib\\site-packages (from scikit-learn>=0.18->vecstack) (2.1.0)\n",
      "Building wheels for collected packages: vecstack\n",
      "  Building wheel for vecstack (setup.py): started\n",
      "  Building wheel for vecstack (setup.py): finished with status 'done'\n",
      "  Created wheel for vecstack: filename=vecstack-0.4.0-py3-none-any.whl size=19883 sha256=2d0de702d75439680b0932af7901515a681cffb2958337219f6f49ba63baeb85\n",
      "  Stored in directory: c:\\users\\user\\appdata\\local\\pip\\cache\\wheels\\28\\fe\\0c\\fe8e43660e3316d7ce204e59a79a72246c0ae9b6c5c79841c8\n",
      "Successfully built vecstack\n",
      "Installing collected packages: vecstack\n",
      "Successfully installed vecstack-0.4.0\n"
     ]
    }
   ],
   "source": [
    "!pip install vecstack"
   ]
  },
  {
   "cell_type": "code",
   "execution_count": 97,
   "metadata": {
    "executionInfo": {
     "elapsed": 973,
     "status": "ok",
     "timestamp": 1605600577968,
     "user": {
      "displayName": "심읁",
      "photoUrl": "",
      "userId": "12973682426542204024"
     },
     "user_tz": -540
    },
    "id": "vba0zPc7AZgH"
   },
   "outputs": [],
   "source": [
    "from sklearn.model_selection import train_test_split \n",
    "from sklearn.metrics import accuracy_score \n",
    "from sklearn.ensemble import ExtraTreesClassifier \n",
    "from sklearn.ensemble import RandomForestClassifier \n",
    "from xgboost import XGBClassifier \n",
    "from lightgbm import LGBMClassifier as lgb\n",
    "from vecstack import stacking\n",
    "import os\n",
    "import pandas as pd"
   ]
  },
  {
   "cell_type": "code",
   "execution_count": 39,
   "metadata": {
    "executionInfo": {
     "elapsed": 922,
     "status": "ok",
     "timestamp": 1605598593818,
     "user": {
      "displayName": "심읁",
      "photoUrl": "",
      "userId": "12973682426542204024"
     },
     "user_tz": -540
    },
    "id": "mgdhHWisIjij"
   },
   "outputs": [],
   "source": [
    "import warnings\n",
    "warnings.filterwarnings('ignore')"
   ]
  },
  {
   "cell_type": "code",
   "execution_count": 5,
   "metadata": {
    "colab": {
     "base_uri": "https://localhost:8080/"
    },
    "executionInfo": {
     "elapsed": 21077,
     "status": "ok",
     "timestamp": 1605596570198,
     "user": {
      "displayName": "심읁",
      "photoUrl": "",
      "userId": "12973682426542204024"
     },
     "user_tz": -540
    },
    "id": "Pqx3DcioAuwW",
    "outputId": "d7f03017-fc1d-44af-fe0d-fed754a6dff7"
   },
   "outputs": [
    {
     "name": "stdout",
     "output_type": "stream",
     "text": [
      "Mounted at /content/gdrive/\n"
     ]
    }
   ],
   "source": [
    "from google.colab import drive\n",
    "drive.mount('/content/gdrive/')"
   ]
  },
  {
   "cell_type": "code",
   "execution_count": 13,
   "metadata": {
    "executionInfo": {
     "elapsed": 1044,
     "status": "ok",
     "timestamp": 1605597179311,
     "user": {
      "displayName": "심읁",
      "photoUrl": "",
      "userId": "12973682426542204024"
     },
     "user_tz": -540
    },
    "id": "H8vnb9g3A2Ax"
   },
   "outputs": [],
   "source": [
    "os.chdir('/content/gdrive/My Drive/2020-2 주제분석')"
   ]
  },
  {
   "cell_type": "code",
   "execution_count": 68,
   "metadata": {
    "executionInfo": {
     "elapsed": 912,
     "status": "ok",
     "timestamp": 1605599224750,
     "user": {
      "displayName": "심읁",
      "photoUrl": "",
      "userId": "12973682426542204024"
     },
     "user_tz": -540
    },
    "id": "LvmUyQNHBniO"
   },
   "outputs": [],
   "source": [
    "train_non = pd.read_csv('train_nonanswer_jo_sum_final.csv',encoding=\"ISO-8859-1\")\n",
    "test_non = pd.read_csv('test_nonanswer_jo_sum.csv')"
   ]
  },
  {
   "cell_type": "code",
   "execution_count": 69,
   "metadata": {
    "executionInfo": {
     "elapsed": 997,
     "status": "ok",
     "timestamp": 1605599226848,
     "user": {
      "displayName": "심읁",
      "photoUrl": "",
      "userId": "12973682426542204024"
     },
     "user_tz": -540
    },
    "id": "9lO7V8iBBqFh"
   },
   "outputs": [],
   "source": [
    "submission_non = pd.read_csv('samplesubmission.csv')"
   ]
  },
  {
   "cell_type": "code",
   "execution_count": 84,
   "metadata": {
    "executionInfo": {
     "elapsed": 979,
     "status": "ok",
     "timestamp": 1605599693032,
     "user": {
      "displayName": "심읁",
      "photoUrl": "",
      "userId": "12973682426542204024"
     },
     "user_tz": -540
    },
    "id": "9edYd7yABrrj"
   },
   "outputs": [],
   "source": [
    "train_non_x = train_non.drop(['Party', 'USER_ID'],axis = 1)\n",
    "train_non_y = train_non['Party']\n",
    "test_non_x = test_non.drop(['USER_ID'], axis = 1)"
   ]
  },
  {
   "cell_type": "code",
   "execution_count": 71,
   "metadata": {
    "executionInfo": {
     "elapsed": 1174,
     "status": "ok",
     "timestamp": 1605599229726,
     "user": {
      "displayName": "심읁",
      "photoUrl": "",
      "userId": "12973682426542204024"
     },
     "user_tz": -540
    },
    "id": "adAetzfaByfB"
   },
   "outputs": [],
   "source": [
    "# Make train/test split \n",
    "# As usual in machine learning task we have X_train, y_train, and X_test \n",
    "#X_train, X_val, y_train, y_val = train_test_split(train_non_x, train_non_y, test_size = 0.2, random_state = 0) "
   ]
  },
  {
   "cell_type": "code",
   "execution_count": 85,
   "metadata": {
    "executionInfo": {
     "elapsed": 923,
     "status": "ok",
     "timestamp": 1605599695010,
     "user": {
      "displayName": "심읁",
      "photoUrl": "",
      "userId": "12973682426542204024"
     },
     "user_tz": -540
    },
    "id": "UELGzlvWB_50"
   },
   "outputs": [],
   "source": [
    "X_train_dummy = pd.get_dummies(train_non_x)\n",
    "X_test_dummy = pd.get_dummies(test_non_x)"
   ]
  },
  {
   "cell_type": "code",
   "execution_count": 86,
   "metadata": {
    "executionInfo": {
     "elapsed": 699,
     "status": "ok",
     "timestamp": 1605599696248,
     "user": {
      "displayName": "심읁",
      "photoUrl": "",
      "userId": "12973682426542204024"
     },
     "user_tz": -540
    },
    "id": "jVuA4KkEGGeh"
   },
   "outputs": [],
   "source": [
    "y_train_dummy = pd.get_dummies(train_non_y, drop_first= True)"
   ]
  },
  {
   "cell_type": "code",
   "execution_count": 98,
   "metadata": {
    "executionInfo": {
     "elapsed": 1310,
     "status": "ok",
     "timestamp": 1605600583484,
     "user": {
      "displayName": "심읁",
      "photoUrl": "",
      "userId": "12973682426542204024"
     },
     "user_tz": -540
    },
    "id": "7YtoNl7rF553"
   },
   "outputs": [],
   "source": [
    "# Caution! All models and parameter values are just \n",
    "# demonstrational and shouldn't be considered as recommended. \n",
    "# Initialize 1-st level models. \n",
    "models = [RandomForestClassifier(n_estimators = 300, max_depth = 9, criterion = 'entropy', max_features = 'log2'), \n",
    "          XGBClassifier(base_score = 0.5, booster = 'gbtree', colsample_bylevel = 1,\n",
    "                        colsample_bynode = 1, colsample_bytree = 1, gamma = 0, importance_type = 'gain', \n",
    "                        max_delta_step = 0, max_depth = 4, learning_rate = 0.1, min_child_weight = 1, \n",
    "                        num_parallel_tree = 1, random_state = 0, n_jobs = 0, n_estimators = 100, reg_alpha = 0, reg_lambda = 20,\n",
    "                        scale_pos_weight = 1, subsample = 1, tree_method = 'exact', validate_parameters = 1, verbosity = 0),\n",
    "          lgb(boosting_type = 'gbdt', objective = 'binary', learning_rate = 0.01, n_jobs = 5, n_estimators = 400,\n",
    "              num_leaves = 700, silent = True, max_depth = -1, max_bin = 255, colsample_bytree = 0.64, reg_alpha = 1.4,\n",
    "              reg_lambda = 1, subsample = 0.7, min_split_gain = 0.5, min_child_weight = 23, min_child_samples = 5)] "
   ]
  },
  {
   "cell_type": "code",
   "execution_count": 99,
   "metadata": {
    "executionInfo": {
     "elapsed": 28248,
     "status": "ok",
     "timestamp": 1605600614519,
     "user": {
      "displayName": "심읁",
      "photoUrl": "",
      "userId": "12973682426542204024"
     },
     "user_tz": -540
    },
    "id": "ZDLscpOcF8W7"
   },
   "outputs": [],
   "source": [
    "# Compute stacking features \n",
    "S_train, S_test = stacking(models, X_train_dummy, y_train_dummy, X_test_dummy, \n",
    "                           regression = False, metric = accuracy_score, n_folds = 4, \n",
    "                           stratified = True, shuffle = True, random_state = 0) "
   ]
  },
  {
   "cell_type": "code",
   "execution_count": 100,
   "metadata": {
    "executionInfo": {
     "elapsed": 896,
     "status": "ok",
     "timestamp": 1605600616832,
     "user": {
      "displayName": "심읁",
      "photoUrl": "",
      "userId": "12973682426542204024"
     },
     "user_tz": -540
    },
    "id": "CrxK6GkgGgbo"
   },
   "outputs": [],
   "source": [
    "# Initialize 2-nd level model \n",
    "model = XGBClassifier(base_score = 0.5, booster = 'gbtree', colsample_bylevel = 1,\n",
    "                        colsample_bynode = 1, colsample_bytree = 1, gamma = 1, importance_type = 'gain',\n",
    "                        max_delta_step = 0, max_depth = 4, learning_rate = 0.1, min_child_weight = 1, \n",
    "                        num_parallel_tree = 1, random_state = 0, n_jobs = 0, n_estimators = 100, reg_alpha = 0, reg_lambda = 20,\n",
    "                        scale_pos_weight = 1, subsample = 1, tree_method = 'exact', validate_parameters = 1, verbosity = 0)"
   ]
  },
  {
   "cell_type": "code",
   "execution_count": 101,
   "metadata": {
    "executionInfo": {
     "elapsed": 1158,
     "status": "ok",
     "timestamp": 1605600619877,
     "user": {
      "displayName": "심읁",
      "photoUrl": "",
      "userId": "12973682426542204024"
     },
     "user_tz": -540
    },
    "id": "BkZbdA1bGkjl"
   },
   "outputs": [],
   "source": [
    "# Fit 2-nd level model \n",
    "model = model.fit(S_train, y_train_dummy) "
   ]
  },
  {
   "cell_type": "code",
   "execution_count": 102,
   "metadata": {
    "executionInfo": {
     "elapsed": 661,
     "status": "ok",
     "timestamp": 1605600621364,
     "user": {
      "displayName": "심읁",
      "photoUrl": "",
      "userId": "12973682426542204024"
     },
     "user_tz": -540
    },
    "id": "nTYhypyBGm3E"
   },
   "outputs": [],
   "source": [
    "# Predict \n",
    "y_pred = model.predict(S_test) "
   ]
  },
  {
   "cell_type": "code",
   "execution_count": 103,
   "metadata": {
    "executionInfo": {
     "elapsed": 902,
     "status": "ok",
     "timestamp": 1605600624189,
     "user": {
      "displayName": "심읁",
      "photoUrl": "",
      "userId": "12973682426542204024"
     },
     "user_tz": -540
    },
    "id": "AXkymA8SNvbp"
   },
   "outputs": [],
   "source": [
    "target_data = pd.DataFrame(y_pred)\n",
    "target_data.columns = ['Predictions']\n",
    "target_data.loc[target_data[\"Predictions\"] == 0,\"Predictions\"] = \"Democrat\"\n",
    "target_data.loc[target_data[\"Predictions\"] == 1,\"Predictions\"] = \"Republican\"\n",
    "submission = pd.concat([submission_non['USER_ID'],target_data],axis=1)"
   ]
  },
  {
   "cell_type": "code",
   "execution_count": 104,
   "metadata": {
    "executionInfo": {
     "elapsed": 1018,
     "status": "ok",
     "timestamp": 1605600631253,
     "user": {
      "displayName": "심읁",
      "photoUrl": "",
      "userId": "12973682426542204024"
     },
     "user_tz": -540
    },
    "id": "RyChcTkKOAsG"
   },
   "outputs": [],
   "source": [
    "submission.to_csv(\"stack_3.csv\",header=True,index=False)"
   ]
  },
  {
   "cell_type": "code",
   "execution_count": 83,
   "metadata": {
    "colab": {
     "base_uri": "https://localhost:8080/"
    },
    "executionInfo": {
     "elapsed": 1165,
     "status": "ok",
     "timestamp": 1605599532120,
     "user": {
      "displayName": "심읁",
      "photoUrl": "",
      "userId": "12973682426542204024"
     },
     "user_tz": -540
    },
    "id": "Hq_wLjdnGoXF",
    "outputId": "98ba1585-2a27-4c26-d7b8-1803455a8870"
   },
   "outputs": [
    {
     "name": "stdout",
     "output_type": "stream",
     "text": [
      "Final prediction score: [0.64807692]\n"
     ]
    }
   ],
   "source": [
    "# Final prediction score \n",
    "print('Final prediction score: [%.8f]' % accuracy_score(y_val, y_pred))"
   ]
  },
  {
   "cell_type": "code",
   "execution_count": null,
   "metadata": {
    "id": "RP5rzGCRA--H"
   },
   "outputs": [],
   "source": [
    "# Make train/test split \n",
    "# As usual in machine learning task we have X_train, y_train, and X_test \n",
    "X_train, X_test, y_train, y_test = train_test_split(X, y, test_size = 0.2, random_state = 0) \n",
    "\n",
    "# Caution! All models and parameter values are just \n",
    "# demonstrational and shouldn't be considered as recommended. \n",
    "# Initialize 1-st level models. \n",
    "models = [RandomForestClassifier(n_estimators = 300, max_depth = 9, criterion = 'entropy', max_features = 'log2'), \n",
    "          XGBClassifier(base_score = 0.5, booster = 'gbtree', colsample_bylevel = 1,\n",
    "                        colsample_bynode = 1, colsample_bytree = 1, gamma = 1, gpu_id = -1, importance_type = 'gain',\n",
    "                        interaction_constraints = ' ', max_delta_step = 0, max_depth = 4, learning_rate = 0.1, min_child_weight = 1, missing = nan, monotone_constraints = '()', \n",
    "                        num_parallel_tree = 1, random_state = 0, n_jobs = 0, n_estimators = 100, reg_alpha = 0, reg_lambda = 20,\n",
    "                        scale_pos_weight = 1, subsample = 1, tree_method = 'exact', validate_parameters = 1, verbosity = None)] \n",
    "          \n",
    "# Compute stacking features \n",
    "S_train, S_test = stacking(models, X_train, y_train, X_test, \n",
    "                           regression = False, metric = accuracy_score, n_folds = 4, \n",
    "                           stratified = True, shuffle = True, random_state = 0, verbose = 2) \n",
    "\n",
    "# Initialize 2-nd level model \n",
    "model = XGBClassifier(seed = 0, n_jobs = -1, learning_rate = 0.1, n_estimators = 100, max_depth = 3) \n",
    "\n",
    "# Fit 2-nd level model \n",
    "model = model.fit(S_train, y_train) \n",
    "# Predict \n",
    "y_pred = model.predict(S_test) \n",
    "\n",
    "# Final prediction score \n",
    "print('Final prediction score: [%.8f]' % accuracy_score(y_test, y_pred))\n",
    "\n"
   ]
  }
 ],
 "metadata": {
  "colab": {
   "authorship_tag": "ABX9TyMZZco8MFMO69cn9MBLpE8U",
   "collapsed_sections": [],
   "name": "StackingEnsemble.ipynb",
   "provenance": []
  },
  "kernelspec": {
   "display_name": "Python 3",
   "language": "python",
   "name": "python3"
  },
  "language_info": {
   "codemirror_mode": {
    "name": "ipython",
    "version": 3
   },
   "file_extension": ".py",
   "mimetype": "text/x-python",
   "name": "python",
   "nbconvert_exporter": "python",
   "pygments_lexer": "ipython3",
   "version": "3.7.7"
  }
 },
 "nbformat": 4,
 "nbformat_minor": 1
}
